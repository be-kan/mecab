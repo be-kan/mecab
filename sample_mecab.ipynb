{
 "cells": [
  {
   "cell_type": "code",
   "execution_count": 9,
   "metadata": {},
   "outputs": [
    {
     "name": "stdout",
     "output_type": "stream",
     "text": [
      "Input text:\n",
      "お仕事については基本的には店舗に配属してからのOJTが中心となりますが、先輩スタッフがしっかりとサポートしてくれるので、どなたも安心してお仕事していただけます。2013年には本社内に開発室を設置。店舗配属前にもトレーニングを行なってから実際の店舗に配属されるなど、サポート体制がしっかりと整っているのも当社の魅力。実際、経験が浅い方や未経験スタートのスタッフも多数活躍中！\n",
      "====================================================\n",
      "['仕事', '基本', '的', '店舗', '配属', 'OJT', '中心', '先輩', 'スタッフ', 'サポート', 'どなた', '安心', '仕事', '2013', '年', '本社', '内', '開発', '室', '設置', '店舗', '配属', '前', 'トレーニング', '店舗', '配属', 'サポート', '体制', 'の', '当社', '魅力', '経験', '方', '経験', 'スタート', 'スタッフ', '多数', '活躍', '中']\n"
     ]
    }
   ],
   "source": [
    "from natto import MeCab\n",
    "\n",
    "mc = MeCab()\n",
    "\n",
    "# テキストは cookbiz.jp より\n",
    "text = \"お仕事については基本的には店舗に配属してからのOJTが中心となりますが、先輩スタッフがしっかりとサポートしてくれるので、どなたも安心してお仕事していただけます。2013年には本社内に開発室を設置。店舗配属前にもトレーニングを行なってから実際の店舗に配属されるなど、サポート体制がしっかりと整っているのも当社の魅力。実際、経験が浅い方や未経験スタートのスタッフも多数活躍中！\"\n",
    "\n",
    "print ('Input text:\\n'+text)\n",
    "\n",
    "print('====================================================')\n",
    "\n",
    "# -F / --node-format オプションでノードの出力フォーマットを指定する\n",
    "#\n",
    "# %m    ... 形態素の表層文\n",
    "# %f[0] ... 品詞\n",
    "# %h    ... 品詞 ID (IPADIC)\n",
    "# %f[8] ... 発音\n",
    "#\n",
    "words = []\n",
    "with MeCab('-F%m,%f[0],%h') as nm:\n",
    "    for n in nm.parse(text, as_nodes=True):\n",
    "        node = n.feature.split(',');\n",
    "        if len(node) != 3:\n",
    "            continue\n",
    "        if node[1] == '名詞':\n",
    "            # if True:\n",
    "            words.append(node[0])\n",
    "print(words)"
   ]
  },
  {
   "cell_type": "code",
   "execution_count": null,
   "metadata": {
    "collapsed": true
   },
   "outputs": [],
   "source": []
  }
 ],
 "metadata": {
  "kernelspec": {
   "display_name": "Python 3",
   "language": "python",
   "name": "python3"
  },
  "language_info": {
   "codemirror_mode": {
    "name": "ipython",
    "version": 3
   },
   "file_extension": ".py",
   "mimetype": "text/x-python",
   "name": "python",
   "nbconvert_exporter": "python",
   "pygments_lexer": "ipython3",
   "version": "3.6.1"
  }
 },
 "nbformat": 4,
 "nbformat_minor": 2
}
